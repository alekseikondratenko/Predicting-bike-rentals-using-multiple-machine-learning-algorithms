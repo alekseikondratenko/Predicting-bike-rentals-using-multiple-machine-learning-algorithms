{
 "cells": [
  {
   "cell_type": "markdown",
   "metadata": {},
   "source": [
    "# Predicting bike rentals\n",
    "\n",
    "Many cities worldwide have communal bike sharing stations where you can rent bicycles by the hour or day. Washington, D.C. is one of these cities. The District collects detailed data on the number of bicycles people rent by the hour and day.\n",
    "\n",
    "[Hadi Fanaee-T](http://www.fanaee.com/) at the University of Porto compiled this data into a CSV file, which we worked with in this project. The file contains `17380` rows, with each row representing the number of bike rentals for a single hour of a single day. You can download the data from the [University of California, Irvine's website](http://archive.ics.uci.edu/ml/datasets/Bike+Sharing+Dataset). \n",
    "\n",
    "Our goal for this project was to predict the number of bike rents for each hour using machine learning algorithms given the available set of features. In the end, random forests regressor turned out to be the most accurate algorithm for a given task."
   ]
  },
  {
   "cell_type": "markdown",
   "metadata": {},
   "source": [
    "## Data exploration"
   ]
  },
  {
   "cell_type": "code",
   "execution_count": 1,
   "metadata": {},
   "outputs": [],
   "source": [
    "import pandas as pd\n",
    "import numpy as np\n",
    "import matplotlib.pyplot as plt\n",
    "from sklearn.linear_model import LinearRegression\n",
    "from sklearn.metrics import mean_absolute_error, r2_score\n",
    "from sklearn.tree import DecisionTreeRegressor\n",
    "from sklearn.ensemble import RandomForestRegressor"
   ]
  },
  {
   "cell_type": "code",
   "execution_count": 2,
   "metadata": {},
   "outputs": [
    {
     "data": {
      "text/html": [
       "<div>\n",
       "<style scoped>\n",
       "    .dataframe tbody tr th:only-of-type {\n",
       "        vertical-align: middle;\n",
       "    }\n",
       "\n",
       "    .dataframe tbody tr th {\n",
       "        vertical-align: top;\n",
       "    }\n",
       "\n",
       "    .dataframe thead th {\n",
       "        text-align: right;\n",
       "    }\n",
       "</style>\n",
       "<table border=\"1\" class=\"dataframe\">\n",
       "  <thead>\n",
       "    <tr style=\"text-align: right;\">\n",
       "      <th></th>\n",
       "      <th>dteday</th>\n",
       "      <th>season</th>\n",
       "      <th>yr</th>\n",
       "      <th>mnth</th>\n",
       "      <th>hr</th>\n",
       "      <th>holiday</th>\n",
       "      <th>weekday</th>\n",
       "      <th>workingday</th>\n",
       "      <th>weathersit</th>\n",
       "      <th>temp</th>\n",
       "      <th>atemp</th>\n",
       "      <th>hum</th>\n",
       "      <th>windspeed</th>\n",
       "      <th>casual</th>\n",
       "      <th>registered</th>\n",
       "      <th>cnt</th>\n",
       "    </tr>\n",
       "    <tr>\n",
       "      <th>instant</th>\n",
       "      <th></th>\n",
       "      <th></th>\n",
       "      <th></th>\n",
       "      <th></th>\n",
       "      <th></th>\n",
       "      <th></th>\n",
       "      <th></th>\n",
       "      <th></th>\n",
       "      <th></th>\n",
       "      <th></th>\n",
       "      <th></th>\n",
       "      <th></th>\n",
       "      <th></th>\n",
       "      <th></th>\n",
       "      <th></th>\n",
       "      <th></th>\n",
       "    </tr>\n",
       "  </thead>\n",
       "  <tbody>\n",
       "    <tr>\n",
       "      <th>1</th>\n",
       "      <td>2011-01-01</td>\n",
       "      <td>1</td>\n",
       "      <td>0</td>\n",
       "      <td>1</td>\n",
       "      <td>0</td>\n",
       "      <td>0</td>\n",
       "      <td>6</td>\n",
       "      <td>0</td>\n",
       "      <td>1</td>\n",
       "      <td>0.24</td>\n",
       "      <td>0.2879</td>\n",
       "      <td>0.81</td>\n",
       "      <td>0.0000</td>\n",
       "      <td>3</td>\n",
       "      <td>13</td>\n",
       "      <td>16</td>\n",
       "    </tr>\n",
       "    <tr>\n",
       "      <th>2</th>\n",
       "      <td>2011-01-01</td>\n",
       "      <td>1</td>\n",
       "      <td>0</td>\n",
       "      <td>1</td>\n",
       "      <td>1</td>\n",
       "      <td>0</td>\n",
       "      <td>6</td>\n",
       "      <td>0</td>\n",
       "      <td>1</td>\n",
       "      <td>0.22</td>\n",
       "      <td>0.2727</td>\n",
       "      <td>0.80</td>\n",
       "      <td>0.0000</td>\n",
       "      <td>8</td>\n",
       "      <td>32</td>\n",
       "      <td>40</td>\n",
       "    </tr>\n",
       "    <tr>\n",
       "      <th>3</th>\n",
       "      <td>2011-01-01</td>\n",
       "      <td>1</td>\n",
       "      <td>0</td>\n",
       "      <td>1</td>\n",
       "      <td>2</td>\n",
       "      <td>0</td>\n",
       "      <td>6</td>\n",
       "      <td>0</td>\n",
       "      <td>1</td>\n",
       "      <td>0.22</td>\n",
       "      <td>0.2727</td>\n",
       "      <td>0.80</td>\n",
       "      <td>0.0000</td>\n",
       "      <td>5</td>\n",
       "      <td>27</td>\n",
       "      <td>32</td>\n",
       "    </tr>\n",
       "    <tr>\n",
       "      <th>4</th>\n",
       "      <td>2011-01-01</td>\n",
       "      <td>1</td>\n",
       "      <td>0</td>\n",
       "      <td>1</td>\n",
       "      <td>3</td>\n",
       "      <td>0</td>\n",
       "      <td>6</td>\n",
       "      <td>0</td>\n",
       "      <td>1</td>\n",
       "      <td>0.24</td>\n",
       "      <td>0.2879</td>\n",
       "      <td>0.75</td>\n",
       "      <td>0.0000</td>\n",
       "      <td>3</td>\n",
       "      <td>10</td>\n",
       "      <td>13</td>\n",
       "    </tr>\n",
       "    <tr>\n",
       "      <th>5</th>\n",
       "      <td>2011-01-01</td>\n",
       "      <td>1</td>\n",
       "      <td>0</td>\n",
       "      <td>1</td>\n",
       "      <td>4</td>\n",
       "      <td>0</td>\n",
       "      <td>6</td>\n",
       "      <td>0</td>\n",
       "      <td>1</td>\n",
       "      <td>0.24</td>\n",
       "      <td>0.2879</td>\n",
       "      <td>0.75</td>\n",
       "      <td>0.0000</td>\n",
       "      <td>0</td>\n",
       "      <td>1</td>\n",
       "      <td>1</td>\n",
       "    </tr>\n",
       "    <tr>\n",
       "      <th>...</th>\n",
       "      <td>...</td>\n",
       "      <td>...</td>\n",
       "      <td>...</td>\n",
       "      <td>...</td>\n",
       "      <td>...</td>\n",
       "      <td>...</td>\n",
       "      <td>...</td>\n",
       "      <td>...</td>\n",
       "      <td>...</td>\n",
       "      <td>...</td>\n",
       "      <td>...</td>\n",
       "      <td>...</td>\n",
       "      <td>...</td>\n",
       "      <td>...</td>\n",
       "      <td>...</td>\n",
       "      <td>...</td>\n",
       "    </tr>\n",
       "    <tr>\n",
       "      <th>17375</th>\n",
       "      <td>2012-12-31</td>\n",
       "      <td>1</td>\n",
       "      <td>1</td>\n",
       "      <td>12</td>\n",
       "      <td>19</td>\n",
       "      <td>0</td>\n",
       "      <td>1</td>\n",
       "      <td>1</td>\n",
       "      <td>2</td>\n",
       "      <td>0.26</td>\n",
       "      <td>0.2576</td>\n",
       "      <td>0.60</td>\n",
       "      <td>0.1642</td>\n",
       "      <td>11</td>\n",
       "      <td>108</td>\n",
       "      <td>119</td>\n",
       "    </tr>\n",
       "    <tr>\n",
       "      <th>17376</th>\n",
       "      <td>2012-12-31</td>\n",
       "      <td>1</td>\n",
       "      <td>1</td>\n",
       "      <td>12</td>\n",
       "      <td>20</td>\n",
       "      <td>0</td>\n",
       "      <td>1</td>\n",
       "      <td>1</td>\n",
       "      <td>2</td>\n",
       "      <td>0.26</td>\n",
       "      <td>0.2576</td>\n",
       "      <td>0.60</td>\n",
       "      <td>0.1642</td>\n",
       "      <td>8</td>\n",
       "      <td>81</td>\n",
       "      <td>89</td>\n",
       "    </tr>\n",
       "    <tr>\n",
       "      <th>17377</th>\n",
       "      <td>2012-12-31</td>\n",
       "      <td>1</td>\n",
       "      <td>1</td>\n",
       "      <td>12</td>\n",
       "      <td>21</td>\n",
       "      <td>0</td>\n",
       "      <td>1</td>\n",
       "      <td>1</td>\n",
       "      <td>1</td>\n",
       "      <td>0.26</td>\n",
       "      <td>0.2576</td>\n",
       "      <td>0.60</td>\n",
       "      <td>0.1642</td>\n",
       "      <td>7</td>\n",
       "      <td>83</td>\n",
       "      <td>90</td>\n",
       "    </tr>\n",
       "    <tr>\n",
       "      <th>17378</th>\n",
       "      <td>2012-12-31</td>\n",
       "      <td>1</td>\n",
       "      <td>1</td>\n",
       "      <td>12</td>\n",
       "      <td>22</td>\n",
       "      <td>0</td>\n",
       "      <td>1</td>\n",
       "      <td>1</td>\n",
       "      <td>1</td>\n",
       "      <td>0.26</td>\n",
       "      <td>0.2727</td>\n",
       "      <td>0.56</td>\n",
       "      <td>0.1343</td>\n",
       "      <td>13</td>\n",
       "      <td>48</td>\n",
       "      <td>61</td>\n",
       "    </tr>\n",
       "    <tr>\n",
       "      <th>17379</th>\n",
       "      <td>2012-12-31</td>\n",
       "      <td>1</td>\n",
       "      <td>1</td>\n",
       "      <td>12</td>\n",
       "      <td>23</td>\n",
       "      <td>0</td>\n",
       "      <td>1</td>\n",
       "      <td>1</td>\n",
       "      <td>1</td>\n",
       "      <td>0.26</td>\n",
       "      <td>0.2727</td>\n",
       "      <td>0.65</td>\n",
       "      <td>0.1343</td>\n",
       "      <td>12</td>\n",
       "      <td>37</td>\n",
       "      <td>49</td>\n",
       "    </tr>\n",
       "  </tbody>\n",
       "</table>\n",
       "<p>17379 rows × 16 columns</p>\n",
       "</div>"
      ],
      "text/plain": [
       "             dteday  season  yr  mnth  hr  holiday  weekday  workingday  \\\n",
       "instant                                                                   \n",
       "1        2011-01-01       1   0     1   0        0        6           0   \n",
       "2        2011-01-01       1   0     1   1        0        6           0   \n",
       "3        2011-01-01       1   0     1   2        0        6           0   \n",
       "4        2011-01-01       1   0     1   3        0        6           0   \n",
       "5        2011-01-01       1   0     1   4        0        6           0   \n",
       "...             ...     ...  ..   ...  ..      ...      ...         ...   \n",
       "17375    2012-12-31       1   1    12  19        0        1           1   \n",
       "17376    2012-12-31       1   1    12  20        0        1           1   \n",
       "17377    2012-12-31       1   1    12  21        0        1           1   \n",
       "17378    2012-12-31       1   1    12  22        0        1           1   \n",
       "17379    2012-12-31       1   1    12  23        0        1           1   \n",
       "\n",
       "         weathersit  temp   atemp   hum  windspeed  casual  registered  cnt  \n",
       "instant                                                                      \n",
       "1                 1  0.24  0.2879  0.81     0.0000       3          13   16  \n",
       "2                 1  0.22  0.2727  0.80     0.0000       8          32   40  \n",
       "3                 1  0.22  0.2727  0.80     0.0000       5          27   32  \n",
       "4                 1  0.24  0.2879  0.75     0.0000       3          10   13  \n",
       "5                 1  0.24  0.2879  0.75     0.0000       0           1    1  \n",
       "...             ...   ...     ...   ...        ...     ...         ...  ...  \n",
       "17375             2  0.26  0.2576  0.60     0.1642      11         108  119  \n",
       "17376             2  0.26  0.2576  0.60     0.1642       8          81   89  \n",
       "17377             1  0.26  0.2576  0.60     0.1642       7          83   90  \n",
       "17378             1  0.26  0.2727  0.56     0.1343      13          48   61  \n",
       "17379             1  0.26  0.2727  0.65     0.1343      12          37   49  \n",
       "\n",
       "[17379 rows x 16 columns]"
      ]
     },
     "execution_count": 2,
     "metadata": {},
     "output_type": "execute_result"
    }
   ],
   "source": [
    "bikerent = pd.read_csv('bike_rental_hour.csv', index_col='instant')\n",
    "bikerent"
   ]
  },
  {
   "cell_type": "markdown",
   "metadata": {},
   "source": [
    "Here are the descriptions for the relevant columns:\n",
    "\n",
    "* instant - A unique sequential ID number for each row\n",
    "* dteday - The date of the rentals\n",
    "* season - The season in which the rentals occurred\n",
    "* yr - The year the rentals occurred\n",
    "* mnth - The month the rentals occurred\n",
    "* hr - The hour the rentals occurred\n",
    "* holiday - Whether or not the day was a holiday\n",
    "* weekday - The day of the week (as a number, 0 to 7)\n",
    "* workingday - Whether or not the day was a working day\n",
    "* weathersit - The weather (as a categorical variable)\n",
    "* temp - The temperature, on a 0-1 scale\n",
    "* atemp - The adjusted temperature\n",
    "* hum - The humidity, on a 0-1 scale\n",
    "* windspeed - The wind speed, on a 0-1 scale\n",
    "* casual - The number of casual riders (people who hadn't previously signed up with the bike sharing program)\n",
    "* registered - The number of registered riders (people who had already signed up)\n",
    "* cnt - The total number of bike rentals (casual + registered)\n",
    "\n",
    "In this project, we'll try to predict the total number of bikes people rented in a given hour. We'll predict the `cnt` column using all of the other columns, except for `casual` and `registered` (since they leak an information about `cnt`). To accomplish this, we'll create a few different machine learning models and evaluate their performance"
   ]
  },
  {
   "cell_type": "code",
   "execution_count": 3,
   "metadata": {},
   "outputs": [
    {
     "name": "stdout",
     "output_type": "stream",
     "text": [
      "<class 'pandas.core.frame.DataFrame'>\n",
      "Int64Index: 17379 entries, 1 to 17379\n",
      "Data columns (total 16 columns):\n",
      " #   Column      Non-Null Count  Dtype  \n",
      "---  ------      --------------  -----  \n",
      " 0   dteday      17379 non-null  object \n",
      " 1   season      17379 non-null  int64  \n",
      " 2   yr          17379 non-null  int64  \n",
      " 3   mnth        17379 non-null  int64  \n",
      " 4   hr          17379 non-null  int64  \n",
      " 5   holiday     17379 non-null  int64  \n",
      " 6   weekday     17379 non-null  int64  \n",
      " 7   workingday  17379 non-null  int64  \n",
      " 8   weathersit  17379 non-null  int64  \n",
      " 9   temp        17379 non-null  float64\n",
      " 10  atemp       17379 non-null  float64\n",
      " 11  hum         17379 non-null  float64\n",
      " 12  windspeed   17379 non-null  float64\n",
      " 13  casual      17379 non-null  int64  \n",
      " 14  registered  17379 non-null  int64  \n",
      " 15  cnt         17379 non-null  int64  \n",
      "dtypes: float64(4), int64(11), object(1)\n",
      "memory usage: 2.3+ MB\n"
     ]
    }
   ],
   "source": [
    "bikerent.info()"
   ]
  },
  {
   "cell_type": "markdown",
   "metadata": {},
   "source": [
    "All the data is numerical and there is no missing data."
   ]
  },
  {
   "cell_type": "markdown",
   "metadata": {},
   "source": [
    "## Data analysis"
   ]
  },
  {
   "cell_type": "code",
   "execution_count": 4,
   "metadata": {},
   "outputs": [
    {
     "data": {
      "image/png": "[encoded data removed]",
      "text/plain": [
       "<Figure size 432x288 with 1 Axes>"
      ]
     },
     "metadata": {
      "needs_background": "light"
     },
     "output_type": "display_data"
    }
   ],
   "source": [
    "plt.hist(bikerent['cnt'])\n",
    "plt.show()"
   ]
  },
  {
   "cell_type": "code",
   "execution_count": 5,
   "metadata": {},
   "outputs": [
    {
     "data": {
      "text/plain": [
       "season        0.178056\n",
       "yr            0.250495\n",
       "mnth          0.120638\n",
       "hr            0.394071\n",
       "holiday      -0.030927\n",
       "weekday       0.026900\n",
       "workingday    0.030284\n",
       "weathersit   -0.142426\n",
       "temp          0.404772\n",
       "atemp         0.400929\n",
       "hum          -0.322911\n",
       "windspeed     0.093234\n",
       "casual        0.694564\n",
       "registered    0.972151\n",
       "cnt           1.000000\n",
       "Name: cnt, dtype: float64"
      ]
     },
     "execution_count": 5,
     "metadata": {},
     "output_type": "execute_result"
    }
   ],
   "source": [
    "bikerent.corr()['cnt']"
   ]
  },
  {
   "cell_type": "code",
   "execution_count": 6,
   "metadata": {},
   "outputs": [],
   "source": [
    "bikerent.drop(columns=['casual', 'registered'], inplace=True)"
   ]
  },
  {
   "cell_type": "code",
   "execution_count": 7,
   "metadata": {},
   "outputs": [
    {
     "data": {
      "text/plain": [
       "hum          -0.322911\n",
       "weathersit   -0.142426\n",
       "holiday      -0.030927\n",
       "weekday       0.026900\n",
       "workingday    0.030284\n",
       "windspeed     0.093234\n",
       "mnth          0.120638\n",
       "season        0.178056\n",
       "yr            0.250495\n",
       "hr            0.394071\n",
       "atemp         0.400929\n",
       "temp          0.404772\n",
       "cnt           1.000000\n",
       "Name: cnt, dtype: float64"
      ]
     },
     "execution_count": 7,
     "metadata": {},
     "output_type": "execute_result"
    }
   ],
   "source": [
    "bikerent.corr()['cnt'].sort_values()"
   ]
  },
  {
   "cell_type": "markdown",
   "metadata": {},
   "source": [
    "The most explainable features are:\n",
    "* Temperature\n",
    "* Adjusted temperature\n",
    "* Humidity"
   ]
  },
  {
   "cell_type": "markdown",
   "metadata": {},
   "source": [
    "## Data manipulation"
   ]
  },
  {
   "cell_type": "markdown",
   "metadata": {},
   "source": [
    "`Weathersit`, `Season` are two columns that needs to be one-hot encoded since the values there are rather nominal than ordinal and consequently not representable."
   ]
  },
  {
   "cell_type": "code",
   "execution_count": 8,
   "metadata": {},
   "outputs": [
    {
     "data": {
      "text/plain": [
       "2    5103\n",
       "1    4360\n",
       "4    4276\n",
       "3    3640\n",
       "Name: hr_label, dtype: int64"
      ]
     },
     "execution_count": 8,
     "metadata": {},
     "output_type": "execute_result"
    }
   ],
   "source": [
    "# Define a function to transform hours\n",
    "def hours_trans(hour):\n",
    "    if hour >=6 and hour <12:\n",
    "        return 1 #Morning\n",
    "    elif hour >=12 and hour <= 18:\n",
    "        return 2 #Day\n",
    "    elif hour >18 and hour < 24:\n",
    "        return 3 #Evening\n",
    "    else:\n",
    "        return 4 #Night\n",
    "    \n",
    "bikerent['hr_label'] = bikerent['hr'].apply(hours_trans)\n",
    "bikerent['hr_label'].value_counts(dropna=False) # Check"
   ]
  },
  {
   "cell_type": "code",
   "execution_count": 9,
   "metadata": {},
   "outputs": [
    {
     "name": "stdout",
     "output_type": "stream",
     "text": [
      "<class 'pandas.core.frame.DataFrame'>\n",
      "Int64Index: 17379 entries, 1 to 17379\n",
      "Data columns (total 15 columns):\n",
      " #   Column      Non-Null Count  Dtype  \n",
      "---  ------      --------------  -----  \n",
      " 0   dteday      17379 non-null  object \n",
      " 1   season      17379 non-null  int64  \n",
      " 2   yr          17379 non-null  int64  \n",
      " 3   mnth        17379 non-null  int64  \n",
      " 4   hr          17379 non-null  int64  \n",
      " 5   holiday     17379 non-null  int64  \n",
      " 6   weekday     17379 non-null  int64  \n",
      " 7   workingday  17379 non-null  int64  \n",
      " 8   weathersit  17379 non-null  int64  \n",
      " 9   temp        17379 non-null  float64\n",
      " 10  atemp       17379 non-null  float64\n",
      " 11  hum         17379 non-null  float64\n",
      " 12  windspeed   17379 non-null  float64\n",
      " 13  cnt         17379 non-null  int64  \n",
      " 14  hr_label    17379 non-null  int64  \n",
      "dtypes: float64(4), int64(10), object(1)\n",
      "memory usage: 2.1+ MB\n"
     ]
    }
   ],
   "source": [
    "bikerent.info()"
   ]
  },
  {
   "cell_type": "code",
   "execution_count": 10,
   "metadata": {},
   "outputs": [],
   "source": [
    "bikerent.drop(columns=['dteday', 'atemp'], inplace=True)"
   ]
  },
  {
   "cell_type": "code",
   "execution_count": 11,
   "metadata": {},
   "outputs": [
    {
     "data": {
      "text/html": [
       "<div>\n",
       "<style scoped>\n",
       "    .dataframe tbody tr th:only-of-type {\n",
       "        vertical-align: middle;\n",
       "    }\n",
       "\n",
       "    .dataframe tbody tr th {\n",
       "        vertical-align: top;\n",
       "    }\n",
       "\n",
       "    .dataframe thead th {\n",
       "        text-align: right;\n",
       "    }\n",
       "</style>\n",
       "<table border=\"1\" class=\"dataframe\">\n",
       "  <thead>\n",
       "    <tr style=\"text-align: right;\">\n",
       "      <th></th>\n",
       "      <th>season</th>\n",
       "      <th>yr</th>\n",
       "      <th>mnth</th>\n",
       "      <th>hr</th>\n",
       "      <th>holiday</th>\n",
       "      <th>weekday</th>\n",
       "      <th>workingday</th>\n",
       "      <th>weathersit</th>\n",
       "      <th>temp</th>\n",
       "      <th>hum</th>\n",
       "      <th>windspeed</th>\n",
       "      <th>cnt</th>\n",
       "      <th>hr_label</th>\n",
       "    </tr>\n",
       "    <tr>\n",
       "      <th>instant</th>\n",
       "      <th></th>\n",
       "      <th></th>\n",
       "      <th></th>\n",
       "      <th></th>\n",
       "      <th></th>\n",
       "      <th></th>\n",
       "      <th></th>\n",
       "      <th></th>\n",
       "      <th></th>\n",
       "      <th></th>\n",
       "      <th></th>\n",
       "      <th></th>\n",
       "      <th></th>\n",
       "    </tr>\n",
       "  </thead>\n",
       "  <tbody>\n",
       "    <tr>\n",
       "      <th>1</th>\n",
       "      <td>1</td>\n",
       "      <td>0</td>\n",
       "      <td>1</td>\n",
       "      <td>0</td>\n",
       "      <td>0</td>\n",
       "      <td>6</td>\n",
       "      <td>0</td>\n",
       "      <td>1</td>\n",
       "      <td>0.24</td>\n",
       "      <td>0.81</td>\n",
       "      <td>0.0</td>\n",
       "      <td>16</td>\n",
       "      <td>4</td>\n",
       "    </tr>\n",
       "    <tr>\n",
       "      <th>2</th>\n",
       "      <td>1</td>\n",
       "      <td>0</td>\n",
       "      <td>1</td>\n",
       "      <td>1</td>\n",
       "      <td>0</td>\n",
       "      <td>6</td>\n",
       "      <td>0</td>\n",
       "      <td>1</td>\n",
       "      <td>0.22</td>\n",
       "      <td>0.80</td>\n",
       "      <td>0.0</td>\n",
       "      <td>40</td>\n",
       "      <td>4</td>\n",
       "    </tr>\n",
       "    <tr>\n",
       "      <th>3</th>\n",
       "      <td>1</td>\n",
       "      <td>0</td>\n",
       "      <td>1</td>\n",
       "      <td>2</td>\n",
       "      <td>0</td>\n",
       "      <td>6</td>\n",
       "      <td>0</td>\n",
       "      <td>1</td>\n",
       "      <td>0.22</td>\n",
       "      <td>0.80</td>\n",
       "      <td>0.0</td>\n",
       "      <td>32</td>\n",
       "      <td>4</td>\n",
       "    </tr>\n",
       "    <tr>\n",
       "      <th>4</th>\n",
       "      <td>1</td>\n",
       "      <td>0</td>\n",
       "      <td>1</td>\n",
       "      <td>3</td>\n",
       "      <td>0</td>\n",
       "      <td>6</td>\n",
       "      <td>0</td>\n",
       "      <td>1</td>\n",
       "      <td>0.24</td>\n",
       "      <td>0.75</td>\n",
       "      <td>0.0</td>\n",
       "      <td>13</td>\n",
       "      <td>4</td>\n",
       "    </tr>\n",
       "    <tr>\n",
       "      <th>5</th>\n",
       "      <td>1</td>\n",
       "      <td>0</td>\n",
       "      <td>1</td>\n",
       "      <td>4</td>\n",
       "      <td>0</td>\n",
       "      <td>6</td>\n",
       "      <td>0</td>\n",
       "      <td>1</td>\n",
       "      <td>0.24</td>\n",
       "      <td>0.75</td>\n",
       "      <td>0.0</td>\n",
       "      <td>1</td>\n",
       "      <td>4</td>\n",
       "    </tr>\n",
       "  </tbody>\n",
       "</table>\n",
       "</div>"
      ],
      "text/plain": [
       "         season  yr  mnth  hr  holiday  weekday  workingday  weathersit  temp  \\\n",
       "instant                                                                         \n",
       "1             1   0     1   0        0        6           0           1  0.24   \n",
       "2             1   0     1   1        0        6           0           1  0.22   \n",
       "3             1   0     1   2        0        6           0           1  0.22   \n",
       "4             1   0     1   3        0        6           0           1  0.24   \n",
       "5             1   0     1   4        0        6           0           1  0.24   \n",
       "\n",
       "          hum  windspeed  cnt  hr_label  \n",
       "instant                                  \n",
       "1        0.81        0.0   16         4  \n",
       "2        0.80        0.0   40         4  \n",
       "3        0.80        0.0   32         4  \n",
       "4        0.75        0.0   13         4  \n",
       "5        0.75        0.0    1         4  "
      ]
     },
     "execution_count": 11,
     "metadata": {},
     "output_type": "execute_result"
    }
   ],
   "source": [
    "bikerent.head()"
   ]
  },
  {
   "cell_type": "markdown",
   "metadata": {},
   "source": [
    "## Training the model"
   ]
  },
  {
   "cell_type": "code",
   "execution_count": 12,
   "metadata": {},
   "outputs": [],
   "source": [
    "from sklearn.model_selection import train_test_split\n",
    "train_bike, test_bike = train_test_split(bikerent, test_size=0.2, random_state=1)\n",
    "train_bike_x = train_bike.drop(columns=['cnt'])\n",
    "train_bike_y = train_bike['cnt']\n",
    "test_bike_x = test_bike.drop(columns=['cnt'])\n",
    "test_bike_y = test_bike['cnt']"
   ]
  },
  {
   "cell_type": "markdown",
   "metadata": {},
   "source": [
    "We will train 4 models here:\n",
    "\n",
    "* Linear regression\n",
    "* Decision Trees\n",
    "* Random Forests\n",
    "* Support Vector Machine (SVM) Regressor\n",
    "\n",
    "Our error metrics will be MAE (mean absolute error), since it clearly shows us how much our prediction deviates from the original value, and r2 score."
   ]
  },
  {
   "cell_type": "markdown",
   "metadata": {},
   "source": [
    "### Linear regression model"
   ]
  },
  {
   "cell_type": "code",
   "execution_count": 13,
   "metadata": {},
   "outputs": [
    {
     "name": "stdout",
     "output_type": "stream",
     "text": [
      "Train MAE for linear regression:97.66416880793031\n",
      "Test MAE for linear regression:97.65786757675075\n",
      "Train r2 score for linear regression:0.4879620833438335\n",
      "Test r2 score for linear regression:0.49645872086204856\n",
      "CPU times: user 31.2 ms, sys: 2.71 ms, total: 33.9 ms\n",
      "Wall time: 13.1 ms\n"
     ]
    }
   ],
   "source": [
    "%%time\n",
    "lr = LinearRegression()\n",
    "lr.fit(train_bike_x, train_bike_y)\n",
    "predictions_train = lr.predict(train_bike_x)\n",
    "predictions_test = lr.predict(test_bike_x)\n",
    "mae_train = mean_absolute_error(train_bike_y, predictions_train)\n",
    "mae_test = mean_absolute_error(test_bike_y, predictions_test)\n",
    "r2_train = r2_score(train_bike_y, predictions_train)\n",
    "r2_test = r2_score(test_bike_y, predictions_test)\n",
    "print(f\"Train MAE for linear regression:{mae_train}\")\n",
    "print(f\"Test MAE for linear regression:{mae_test}\")\n",
    "print(f\"Train r2 score for linear regression:{r2_train}\")\n",
    "print(f\"Test r2 score for linear regression:{r2_test}\")"
   ]
  },
  {
   "cell_type": "markdown",
   "metadata": {},
   "source": [
    "Linear regression with these features is not able to predict the renting count with an adequate accuracy."
   ]
  },
  {
   "cell_type": "markdown",
   "metadata": {},
   "source": [
    "### Decision tree"
   ]
  },
  {
   "cell_type": "code",
   "execution_count": 14,
   "metadata": {},
   "outputs": [
    {
     "name": "stdout",
     "output_type": "stream",
     "text": [
      "Train MAE for decision tree:0.005538373013018773\n",
      "Test MAE for decision tree:35.34953970080552\n",
      "Train r2 score for decision tree:0.9999947222694915\n",
      "Test r2 score for decision tree:0.8849338417491213\n",
      "The tree depth is:34\n",
      "The number of leafs is:13105\n",
      "CPU times: user 7.72 s, sys: 40.3 ms, total: 7.77 s\n",
      "Wall time: 7.22 s\n"
     ]
    }
   ],
   "source": [
    "%%time\n",
    "def tree_pred(df, min_samples_split=2, min_samples_leaf=1, max_depth=None, return_values=False):\n",
    "    train_bike, test_bike = train_test_split(df, test_size=0.2, random_state=1)\n",
    "    train_bike_x = train_bike.drop(columns=['cnt'])\n",
    "    train_bike_y = train_bike['cnt']\n",
    "    test_bike_x = test_bike.drop(columns=['cnt'])\n",
    "    test_bike_y = test_bike['cnt']\n",
    "\n",
    "    clf = DecisionTreeRegressor(criterion='absolute_error', max_depth=max_depth, min_samples_split=min_samples_split, min_samples_leaf=min_samples_leaf, random_state=1)\n",
    "    clf.fit(train_bike_x, train_bike_y)\n",
    "    predictions_train = clf.predict(train_bike_x)\n",
    "    predictions_test = clf.predict(test_bike_x)\n",
    "    mae_train = mean_absolute_error(train_bike_y, predictions_train)\n",
    "    mae_test = mean_absolute_error(test_bike_y, predictions_test)\n",
    "    r2_train = r2_score(train_bike_y, predictions_train)\n",
    "    r2_test = r2_score(test_bike_y, predictions_test)\n",
    "    if return_values == False:\n",
    "        print(f\"Train MAE for decision tree:{mae_train}\")\n",
    "        print(f\"Test MAE for decision tree:{mae_test}\")\n",
    "        print(f\"Train r2 score for decision tree:{r2_train}\")\n",
    "        print(f\"Test r2 score for decision tree:{r2_test}\")\n",
    "        print(f\"The tree depth is:{clf.get_depth()}\")\n",
    "        print(f\"The number of leafs is:{clf.get_n_leaves()}\")  \n",
    "    else:\n",
    "        return mae_train, mae_test, r2_train, r2_test\n",
    "    \n",
    "tree_pred(bikerent)"
   ]
  },
  {
   "cell_type": "markdown",
   "metadata": {},
   "source": [
    "We clearly see an overfitting when we use default parameters. This is expected when using Decision Trees."
   ]
  },
  {
   "cell_type": "markdown",
   "metadata": {},
   "source": [
    "There are three main ways to combat overfitting:\n",
    "\n",
    "* \"Prune\" the tree after we build it to remove unnecessary leaves.\n",
    "* Use ensembling to blend the predictions of many trees.\n",
    "* Restrict the depth of the tree while we're building it.\n",
    "\n",
    "Let's start with the last approach and reduce `min_samples_split` parameter, which is the minimum number of samples required to split an internal node."
   ]
  },
  {
   "cell_type": "code",
   "execution_count": 15,
   "metadata": {},
   "outputs": [
    {
     "name": "stdout",
     "output_type": "stream",
     "text": [
      "Train MAE for decision tree:14.13486297921312\n",
      "Test MAE for decision tree:31.99626006904488\n",
      "Train r2 score for decision tree:0.97310208211629\n",
      "Test r2 score for decision tree:0.9083400462544642\n",
      "The tree depth is:29\n",
      "The number of leafs is:3073\n",
      "CPU times: user 7.27 s, sys: 53.1 ms, total: 7.32 s\n",
      "Wall time: 7.35 s\n"
     ]
    }
   ],
   "source": [
    "%%time\n",
    "tree_pred(bikerent, min_samples_split=10)"
   ]
  },
  {
   "cell_type": "code",
   "execution_count": 16,
   "metadata": {},
   "outputs": [],
   "source": [
    "x = np.arange(2,40, 5)\n",
    "r2_trains = []\n",
    "r2_tests = []\n",
    "for split in x:\n",
    "    mae_train, mae_test, r2_train, r2_test = tree_pred(bikerent, min_samples_split=split, return_values=True)\n",
    "    r2_trains.append(r2_train)\n",
    "    r2_tests.append(r2_test)"
   ]
  },
  {
   "cell_type": "code",
   "execution_count": 17,
   "metadata": {},
   "outputs": [
    {
     "data": {
      "text/plain": [
       "Text(0, 0.5, 'r2 score')"
      ]
     },
     "execution_count": 17,
     "metadata": {},
     "output_type": "execute_result"
    },
    {
     "data": {
      "image/png": "[encoded data removed]",
      "text/plain": [
       "<Figure size 864x576 with 1 Axes>"
      ]
     },
     "metadata": {
      "needs_background": "light"
     },
     "output_type": "display_data"
    }
   ],
   "source": [
    "plt.figure(figsize=(12,8))\n",
    "plt.plot(x, r2_trains, label='Training error', color='red')\n",
    "plt.plot(x, r2_tests, label='Testing error', color='green')\n",
    "plt.legend()\n",
    "plt.title('Training and testing errors tuning min_samples_split', fontsize=16)\n",
    "plt.xlabel('The minimum number of samples required to split an internal node')\n",
    "plt.ylabel('r2 score')"
   ]
  },
  {
   "cell_type": "markdown",
   "metadata": {},
   "source": [
    "We can clearly see that increasing `min_samples_split` to more than 15 will not lead to the further increase of test accuracy and will only lead to the decrease of train accuracy (so, we will have underfitting).\n",
    "\n",
    "Now, let's try to reduce tree depth directly."
   ]
  },
  {
   "cell_type": "code",
   "execution_count": 18,
   "metadata": {},
   "outputs": [
    {
     "name": "stdout",
     "output_type": "stream",
     "text": [
      "Train MAE for decision tree:0.005538373013018773\n",
      "Test MAE for decision tree:35.34953970080552\n",
      "Train r2 score for decision tree:0.9999947222694915\n",
      "Test r2 score for decision tree:0.8849338417491213\n",
      "The tree depth is:34\n",
      "The number of leafs is:13105\n",
      "Train MAE for decision tree:0.009853988347838596\n",
      "Test MAE for decision tree:35.495253164556964\n",
      "Train r2 score for decision tree:0.9999926489145422\n",
      "Test r2 score for decision tree:0.8839265402583335\n",
      "The tree depth is:31\n",
      "The number of leafs is:13098\n",
      "Train MAE for decision tree:0.054808314752211755\n",
      "Test MAE for decision tree:35.81415420023015\n",
      "Train r2 score for decision tree:0.99994530511584\n",
      "Test r2 score for decision tree:0.8831293218498234\n",
      "The tree depth is:28\n",
      "The number of leafs is:13029\n",
      "Train MAE for decision tree:0.25483708552111056\n",
      "Test MAE for decision tree:35.17836593785961\n",
      "Train r2 score for decision tree:0.9995128131465345\n",
      "Test r2 score for decision tree:0.8871518318863085\n",
      "The tree depth is:25\n",
      "The number of leafs is:12809\n",
      "Train MAE for decision tree:0.902395166510825\n",
      "Test MAE for decision tree:35.12456846950518\n",
      "Train r2 score for decision tree:0.9984260427581007\n",
      "Test r2 score for decision tree:0.8895116480452185\n",
      "The tree depth is:22\n",
      "The number of leafs is:12120\n"
     ]
    }
   ],
   "source": [
    "for leafd in np.arange(34, 20, -3):\n",
    "    tree_pred(bikerent, max_depth=leafd)"
   ]
  },
  {
   "cell_type": "markdown",
   "metadata": {},
   "source": [
    "So, if we reduce the three depth without increasing the minimum number of samples required to split an internal node (`min_samples_split`) it will not reduce the total number of leafs much and will not improve the test r2 and MAE scores as a consequence. So, tuning this hyperparameter alone will not help us to overcome overfitting.\n",
    "\n",
    "Let's finally try to tune `min_samples_leaf` which is the minimum number of samples required to be at a leaf node."
   ]
  },
  {
   "cell_type": "code",
   "execution_count": 19,
   "metadata": {},
   "outputs": [],
   "source": [
    "x = np.arange(1, 10, 2)\n",
    "r2_trains = []\n",
    "r2_tests = []\n",
    "for split_leaf in x:\n",
    "    mae_train, mae_test, r2_train, r2_test = tree_pred(bikerent, min_samples_split=15, min_samples_leaf=split_leaf, return_values=True)\n",
    "    r2_trains.append(r2_train)\n",
    "    r2_tests.append(r2_test)"
   ]
  },
  {
   "cell_type": "code",
   "execution_count": 20,
   "metadata": {},
   "outputs": [
    {
     "data": {
      "text/plain": [
       "Text(0, 0.5, 'r2 score')"
      ]
     },
     "execution_count": 20,
     "metadata": {},
     "output_type": "execute_result"
    },
    {
     "data": {
      "image/png": "[encoded data removed]",
      "text/plain": [
       "<Figure size 864x576 with 1 Axes>"
      ]
     },
     "metadata": {
      "needs_background": "light"
     },
     "output_type": "display_data"
    }
   ],
   "source": [
    "plt.figure(figsize=(12,8))\n",
    "plt.plot(x, r2_trains, label='Training error', color='red')\n",
    "plt.plot(x, r2_tests, label='Testing error', color='green')\n",
    "plt.legend()\n",
    "plt.title('Training and testing errors tuning min_samples_leaf', fontsize=16)\n",
    "plt.xlabel('The minimum number of samples required to be at a leaf node')\n",
    "plt.ylabel('r2 score')"
   ]
  },
  {
   "cell_type": "markdown",
   "metadata": {},
   "source": [
    "We can see that the biggest testing accuracy is reached when `min_samples_leaf` is equal to 5.\n",
    "\n",
    "And as a final hyperparameter to tune, let's consider another time `max_depth` which is a depth of a tree. Other hyperparameters will be fixed."
   ]
  },
  {
   "cell_type": "code",
   "execution_count": 21,
   "metadata": {},
   "outputs": [
    {
     "name": "stdout",
     "output_type": "stream",
     "text": [
      "Train MAE for decision tree:20.7520678990146\n",
      "Test MAE for decision tree:31.351553509781358\n",
      "Train r2 score for decision tree:0.9502629562022407\n",
      "Test r2 score for decision tree:0.9119350172773292\n",
      "The tree depth is:25\n",
      "The number of leafs is:1575\n"
     ]
    }
   ],
   "source": [
    "# Check the current tree depth given the other hyperparameters fixed.\n",
    "tree_pred(bikerent, min_samples_split=15, min_samples_leaf=5, return_values=False)"
   ]
  },
  {
   "cell_type": "code",
   "execution_count": 22,
   "metadata": {},
   "outputs": [],
   "source": [
    "x = np.arange(25, 6, -3)\n",
    "r2_trains = []\n",
    "r2_tests = []\n",
    "for leafd in x:\n",
    "    mae_train, mae_test, r2_train, r2_test = tree_pred(bikerent, max_depth=leafd, min_samples_split=15, min_samples_leaf=5, return_values=True)\n",
    "    r2_trains.append(r2_train)\n",
    "    r2_tests.append(r2_test)"
   ]
  },
  {
   "cell_type": "code",
   "execution_count": 23,
   "metadata": {},
   "outputs": [
    {
     "data": {
      "text/plain": [
       "Text(0, 0.5, 'r2 score')"
      ]
     },
     "execution_count": 23,
     "metadata": {},
     "output_type": "execute_result"
    },
    {
     "data": {
      "image/png": "[encoded data removed]",
      "text/plain": [
       "<Figure size 864x576 with 1 Axes>"
      ]
     },
     "metadata": {
      "needs_background": "light"
     },
     "output_type": "display_data"
    }
   ],
   "source": [
    "plt.figure(figsize=(12,8))\n",
    "plt.plot(x, r2_trains, label='Training error', color='red')\n",
    "plt.plot(x, r2_tests, label='Testing error', color='green')\n",
    "plt.legend()\n",
    "plt.title('Training and testing errors tuning max_depth', fontsize=16)\n",
    "plt.xlabel('The depth of the tree')\n",
    "plt.ylabel('r2 score')"
   ]
  },
  {
   "cell_type": "markdown",
   "metadata": {},
   "source": [
    "We can clearly see that decreasing the depth of the tree does not help us to reach a better balance between training and testing accuracy. Therefore, we will keep it equal to 25 as default when other hyperparameters are tuned."
   ]
  },
  {
   "cell_type": "markdown",
   "metadata": {},
   "source": [
    "### Random forests"
   ]
  },
  {
   "cell_type": "code",
   "execution_count": 24,
   "metadata": {},
   "outputs": [
    {
     "name": "stdout",
     "output_type": "stream",
     "text": [
      "Train MAE for decision tree:11.185931094008488\n",
      "Test MAE for decision tree:27.711809551208287\n",
      "Train r2 score for decision tree:0.9886688763713223\n",
      "Test r2 score for decision tree:0.9382344753205694\n",
      "CPU times: user 27.3 s, sys: 18.5 ms, total: 27.3 s\n",
      "Wall time: 27.3 s\n"
     ]
    }
   ],
   "source": [
    "%%time\n",
    "def rf_tree_pred(df, n_estimators=10, min_samples_split=2, min_samples_leaf=1, max_depth=None, return_values=False):\n",
    "    train_bike, test_bike = train_test_split(df, test_size=0.2, random_state=1)\n",
    "    train_bike_x = train_bike.drop(columns=['cnt'])\n",
    "    train_bike_y = train_bike['cnt']\n",
    "    test_bike_x = test_bike.drop(columns=['cnt'])\n",
    "    test_bike_y = test_bike['cnt']\n",
    "\n",
    "    clf = RandomForestRegressor(criterion='absolute_error', n_estimators=n_estimators, max_depth=max_depth, min_samples_split=min_samples_split, min_samples_leaf=min_samples_leaf, random_state=1)\n",
    "    clf.fit(train_bike_x, train_bike_y)\n",
    "    predictions_train = clf.predict(train_bike_x)\n",
    "    predictions_test = clf.predict(test_bike_x)\n",
    "    mae_train = mean_absolute_error(train_bike_y, predictions_train)\n",
    "    mae_test = mean_absolute_error(test_bike_y, predictions_test)\n",
    "    r2_train = r2_score(train_bike_y, predictions_train)\n",
    "    r2_test = r2_score(test_bike_y, predictions_test)\n",
    "    if return_values == False:\n",
    "        print(f\"Train MAE for decision tree:{mae_train}\")\n",
    "        print(f\"Test MAE for decision tree:{mae_test}\")\n",
    "        print(f\"Train r2 score for decision tree:{r2_train}\")\n",
    "        print(f\"Test r2 score for decision tree:{r2_test}\") \n",
    "    else:\n",
    "        return mae_train, mae_test, r2_train, r2_test\n",
    "    \n",
    "rf_tree_pred(bikerent)"
   ]
  },
  {
   "cell_type": "markdown",
   "metadata": {},
   "source": [
    "The test accuracy has increased compared to decision tree model. Now, let's apply hyperparameters obtained from decision tree model."
   ]
  },
  {
   "cell_type": "code",
   "execution_count": 25,
   "metadata": {},
   "outputs": [
    {
     "name": "stdout",
     "output_type": "stream",
     "text": [
      "Train MAE for decision tree:22.543217291232107\n",
      "Test MAE for decision tree:27.441196777905635\n",
      "Train r2 score for decision tree:0.9534507847928028\n",
      "Test r2 score for decision tree:0.937512047545694\n"
     ]
    }
   ],
   "source": [
    "rf_tree_pred(bikerent, n_estimators=10, min_samples_split=15, min_samples_leaf=5)"
   ]
  },
  {
   "cell_type": "code",
   "execution_count": 26,
   "metadata": {},
   "outputs": [],
   "source": [
    "x = np.arange(10, 31, 4)\n",
    "r2_trains = []\n",
    "r2_tests = []\n",
    "for nestim in x:\n",
    "    mae_train, mae_test, r2_train, r2_test = rf_tree_pred(bikerent, n_estimators=nestim, min_samples_split=15, min_samples_leaf=5, return_values=True)\n",
    "    r2_trains.append(r2_train)\n",
    "    r2_tests.append(r2_test)"
   ]
  },
  {
   "cell_type": "code",
   "execution_count": 27,
   "metadata": {},
   "outputs": [
    {
     "data": {
      "text/plain": [
       "Text(0, 0.5, 'r2 score')"
      ]
     },
     "execution_count": 27,
     "metadata": {},
     "output_type": "execute_result"
    },
    {
     "data": {
      "image/png": "[encoded data removed]",
      "text/plain": [
       "<Figure size 864x576 with 1 Axes>"
      ]
     },
     "metadata": {
      "needs_background": "light"
     },
     "output_type": "display_data"
    }
   ],
   "source": [
    "plt.figure(figsize=(12,8))\n",
    "plt.plot(x, r2_trains, label='Training error', color='red')\n",
    "plt.plot(x, r2_tests, label='Testing error', color='green')\n",
    "plt.legend()\n",
    "plt.title('Training and testing errors for random forests model tuning n_estimators', fontsize=16)\n",
    "plt.xlabel('The number of forests')\n",
    "plt.ylabel('r2 score')"
   ]
  },
  {
   "cell_type": "markdown",
   "metadata": {},
   "source": [
    "As we can see, the increase of number of trees inside the forest does not contribute to the higher accuracy. Therefore, we can keep the default value (10 trees) for the faster speed of algorithm execution. \n",
    "\n",
    "Finally, let's use Support Vector Machine Regressor (SVR). "
   ]
  },
  {
   "cell_type": "markdown",
   "metadata": {},
   "source": [
    "### Support Vector Machine Regressor (SVR)"
   ]
  },
  {
   "cell_type": "code",
   "execution_count": 28,
   "metadata": {},
   "outputs": [
    {
     "name": "stdout",
     "output_type": "stream",
     "text": [
      "Train MAE for SVR:89.64733316743458\n",
      "Test MAE for SVR:89.77809355803186\n",
      "Train r2 score for SVR:0.37949845838752405\n",
      "Test r2 score for SVR:0.38668793653836886\n",
      "CPU times: user 33.4 s, sys: 225 ms, total: 33.7 s\n",
      "Wall time: 33.7 s\n"
     ]
    }
   ],
   "source": [
    "%%time\n",
    "from sklearn.svm import SVR\n",
    "SVR_rbf = SVR(kernel=\"rbf\")\n",
    "SVR_rbf.fit(train_bike_x, train_bike_y)\n",
    "predictions_train = SVR_rbf.predict(train_bike_x)\n",
    "predictions_test = SVR_rbf.predict(test_bike_x)\n",
    "mae_train = mean_absolute_error(train_bike_y, predictions_train)\n",
    "mae_test = mean_absolute_error(test_bike_y, predictions_test)\n",
    "r2_train = r2_score(train_bike_y, predictions_train)\n",
    "r2_test = r2_score(test_bike_y, predictions_test)\n",
    "print(f\"Train MAE for SVR:{mae_train}\")\n",
    "print(f\"Test MAE for SVR:{mae_test}\")\n",
    "print(f\"Train r2 score for SVR:{r2_train}\")\n",
    "print(f\"Test r2 score for SVR:{r2_test}\")"
   ]
  },
  {
   "cell_type": "markdown",
   "metadata": {},
   "source": [
    "MAE is lower than for linear regression (even though r2 score is worse). Generally, the accuracy of SVR is much worse than of decision tree and random forests model. However, we have to mention that support vector machines are very sensitive to data scaling. So, let's use a Pipeline from sklearn library and see if the accuracy will be improved."
   ]
  },
  {
   "cell_type": "code",
   "execution_count": 29,
   "metadata": {},
   "outputs": [
    {
     "name": "stdout",
     "output_type": "stream",
     "text": [
      "Train MAE for SVR:83.08161043054751\n",
      "Test MAE for SVR:84.44587448924318\n",
      "Train r2 score for SVR:0.4679437061532955\n",
      "Test r2 score for SVR:0.4666441568240387\n",
      "CPU times: user 33.9 s, sys: 174 ms, total: 34.1 s\n",
      "Wall time: 34.1 s\n"
     ]
    }
   ],
   "source": [
    "%%time\n",
    "from sklearn.pipeline import Pipeline\n",
    "from sklearn.preprocessing import StandardScaler\n",
    "SVR_rbf = Pipeline((\n",
    "    (\"scaler\", StandardScaler()),\n",
    "    (\"svr\", SVR(kernel=\"rbf\")),\n",
    "))\n",
    "SVR_rbf.fit(train_bike_x, train_bike_y)\n",
    "predictions_train = SVR_rbf.predict(train_bike_x)\n",
    "predictions_test = SVR_rbf.predict(test_bike_x)\n",
    "mae_train = mean_absolute_error(train_bike_y, predictions_train)\n",
    "mae_test = mean_absolute_error(test_bike_y, predictions_test)\n",
    "r2_train = r2_score(train_bike_y, predictions_train)\n",
    "r2_test = r2_score(test_bike_y, predictions_test)\n",
    "print(f\"Train MAE for SVR:{mae_train}\")\n",
    "print(f\"Test MAE for SVR:{mae_test}\")\n",
    "print(f\"Train r2 score for SVR:{r2_train}\")\n",
    "print(f\"Test r2 score for SVR:{r2_test}\")"
   ]
  },
  {
   "cell_type": "markdown",
   "metadata": {},
   "source": [
    "The accuracy has improved but not significantly. Finally, let's try to use linear model."
   ]
  },
  {
   "cell_type": "code",
   "execution_count": 30,
   "metadata": {},
   "outputs": [
    {
     "name": "stdout",
     "output_type": "stream",
     "text": [
      "Train MAE for SVR:92.88275453368028\n",
      "Test MAE for SVR:93.85477550360278\n",
      "Train r2 score for SVR:0.42238050430080554\n",
      "Test r2 score for SVR:0.4243119960980669\n",
      "CPU times: user 31.8 ms, sys: 2.41 ms, total: 34.3 ms\n",
      "Wall time: 23.7 ms\n"
     ]
    }
   ],
   "source": [
    "%%time\n",
    "from sklearn.svm import LinearSVR\n",
    "SVR_rbf = Pipeline((\n",
    "    (\"scaler\", StandardScaler()),\n",
    "    (\"linear_svr\", LinearSVR(C=1)),\n",
    "))\n",
    "SVR_rbf.fit(train_bike_x, train_bike_y)\n",
    "predictions_train = SVR_rbf.predict(train_bike_x)\n",
    "predictions_test = SVR_rbf.predict(test_bike_x)\n",
    "mae_train = mean_absolute_error(train_bike_y, predictions_train)\n",
    "mae_test = mean_absolute_error(test_bike_y, predictions_test)\n",
    "r2_train = r2_score(train_bike_y, predictions_train)\n",
    "r2_test = r2_score(test_bike_y, predictions_test)\n",
    "print(f\"Train MAE for SVR:{mae_train}\")\n",
    "print(f\"Test MAE for SVR:{mae_test}\")\n",
    "print(f\"Train r2 score for SVR:{r2_train}\")\n",
    "print(f\"Test r2 score for SVR:{r2_test}\")"
   ]
  },
  {
   "cell_type": "markdown",
   "metadata": {},
   "source": [
    "As expected, linear model did not give better results than a model with rbf kernel. As a conclusion, we can claim that SVM is not the best algorithm for this particular data."
   ]
  },
  {
   "cell_type": "markdown",
   "metadata": {},
   "source": [
    "## Conclusions"
   ]
  },
  {
   "cell_type": "markdown",
   "metadata": {},
   "source": [
    "In this project we tried to predict the number of bike rentals for each hour during the day, given the information about different calendar and weather particularities. After a short data processing and feature engineering we trained 3 regression models:\n",
    "\n",
    "* Linear regression\n",
    "* Decision tree regressor\n",
    "* Random forests regressor\n",
    "* SVM regressor\n",
    "\n",
    "As a result of the analysis, we can conclude that the random forests algorithm is the most accurate for the given task and data. The results of the best model (10 forests) are the following:\n",
    "\n",
    "* 27.44 in terms of MAE (mean average error)\n",
    "* 0.937 r2 score"
   ]
  }
 ],
 "metadata": {
  "kernelspec": {
   "display_name": "Python 3",
   "language": "python",
   "name": "python3"
  },
  "language_info": {
   "codemirror_mode": {
    "name": "ipython",
    "version": 3
   },
   "file_extension": ".py",
   "mimetype": "text/x-python",
   "name": "python",
   "nbconvert_exporter": "python",
   "pygments_lexer": "ipython3",
   "version": "3.8.5"
  }
 },
 "nbformat": 4,
 "nbformat_minor": 4
}
